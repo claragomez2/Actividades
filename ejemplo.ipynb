{
 "cells": [
  {
   "cell_type": "markdown",
   "metadata": {},
   "source": [
    "Mi primer Notebook!"
   ]
  },
  {
   "cell_type": "markdown",
   "metadata": {},
   "source": [
    "2do B. Gómez Fernández, Clara"
   ]
  },
  {
   "cell_type": "code",
   "execution_count": 1,
   "metadata": {},
   "outputs": [
    {
     "name": "stdout",
     "output_type": "stream",
     "text": [
      "Hola Mundo\n"
     ]
    }
   ],
   "source": [
    "print(\"Hola Mundo\")"
   ]
  },
  {
   "cell_type": "markdown",
   "metadata": {},
   "source": [
    "Mis primeros descriptivos con Pandas"
   ]
  },
  {
   "cell_type": "markdown",
   "metadata": {},
   "source": [
    "Importa la biblioteca pandas y la renombra como pd para manejar datos fácilmente"
   ]
  },
  {
   "cell_type": "code",
   "execution_count": null,
   "metadata": {},
   "outputs": [],
   "source": [
    "#Se importa la librería 'pandas' y se le asigna el alias 'pd', bliblioteca que proporciona estructuras de datos y series para manipular y analizar datos de manera eficiente.\n",
    "import pandas as pd"
   ]
  },
  {
   "cell_type": "markdown",
   "metadata": {},
   "source": [
    "Crea un DataFrame de Pandas llamado df a partir de la variable datos"
   ]
  },
  {
   "cell_type": "code",
   "execution_count": 3,
   "metadata": {},
   "outputs": [],
   "source": [
    "# Crear un diccionario con datos de edad y peso\n",
    "datos = {\n",
    "    'edad': [8, 9, 10, 11, 12],\n",
    "    'peso': [30, 32, 35, 37, 40]\n",
    "}\n",
    "\n",
    "# Convertir el diccionario en un DataFrame de pandas para análisis de datos\n",
    "df = pd.DataFrame(datos)"
   ]
  },
  {
   "cell_type": "markdown",
   "metadata": {},
   "source": [
    "Operaciones que calculan la media aritmética y la desviación típica. Además, de mostrar la información en la salida estándar. "
   ]
  },
  {
   "cell_type": "code",
   "execution_count": null,
   "metadata": {},
   "outputs": [
    {
     "name": "stdout",
     "output_type": "stream",
     "text": [
      "Media de Edad: 10.0\n",
      "Desviación Típica de Edad: 1.5811388300841898\n",
      "Media de Peso: 34.8\n",
      "Desviación Típica de Peso: 3.9623225512317903\n"
     ]
    }
   ],
   "source": [
    "#Calcula la media de la columna 'edad' en el DataFrame 'df', usando el método .mean() y asigna el resultado a la variable\n",
    "media_edad = df['edad'].mean()\n",
    "##Calcula la desviación típica de la columna 'edad', usando el método .std() y asigna el resultado a la variable\n",
    "desviacion_tipica_edad = df['edad'].std()\n",
    "\n",
    "#Calcula la media de la columna 'peso' en el DataFrame 'df', usando el método .mean() y asigna el resultado a la variable\n",
    "media_peso = df['peso'].mean()\n",
    "##Calcula la desviación típica de la columna 'peso', usando el método .std() y asigna el resultado a la variable\n",
    "desviacion_tipica_peso = df['peso'].std()\n",
    "\n",
    "#Imprime el valor de la media 'edad' con un mensaje explicativo.\n",
    "print(\"Media de Edad:\", media_edad)\n",
    "#Imprime el valor de la desviación típica 'edad' con un mensaje explicativo.\n",
    "print(\"Desviación Típica de Edad:\", desviacion_tipica_edad)\n",
    "#Imprime el valor de la media 'peso' con un mensaje explicativo.\n",
    "print(\"Media de Peso:\", media_peso)\n",
    "#Imprime el valor de la desviación típica 'peso' con un mensaje explicativo.\n",
    "print(\"Desviación Típica de Peso:\", desviacion_tipica_peso)"
   ]
  }
 ],
 "metadata": {
  "kernelspec": {
   "display_name": "Python 3",
   "language": "python",
   "name": "python3"
  },
  "language_info": {
   "codemirror_mode": {
    "name": "ipython",
    "version": 3
   },
   "file_extension": ".py",
   "mimetype": "text/x-python",
   "name": "python",
   "nbconvert_exporter": "python",
   "pygments_lexer": "ipython3",
   "version": "3.11.9"
  }
 },
 "nbformat": 4,
 "nbformat_minor": 2
}
